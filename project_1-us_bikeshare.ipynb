{
 "cells": [
  {
   "cell_type": "markdown",
   "metadata": {},
   "source": [
    "# Python Project #1 : Exploring US Bikeshare Data\n",
    "\n",
    "## Introduction\n",
    "\n",
    "In this project, we will make use of Python to explore data related to bike share systems for three major cities in the United States (Chicago, New York City, and Washington) \n",
    "* We will write code to import the data and utilize descriptive statistics to answer some interesting questions about. \n",
    "* We will write a script that utilizes a user input to create an interactive experience in the terminal to present these statistics.\n",
    "\n",
    "![Bike Share Data](https://video.udacity-data.com/topher/2018/March/5aa7718d_divvy/divvy.jpg)"
   ]
  },
  {
   "cell_type": "markdown",
   "metadata": {},
   "source": [
    "## The Data\n",
    "* In this project, we will use data provided by [Motivate](https://motivateco.com/), a bike share system provider for many major cities in the United States.\n",
    "* We will uncover bike share usage patterns by compare the system usage between three large cities: Chicago, New York City, and Washington, DC.\n",
    "\n",
    "### The Datasets\n",
    "\n",
    "Randomly selected data for the first six months of 2017 are provided for all three cities. All three of the data files contain the same core six (6) columns:\n",
    "\n",
    "* Start Time (e.g., 2017-01-01 00:07:57)\n",
    "* End Time (e.g., 2017-01-01 00:20:53)\n",
    "* Trip Duration (in seconds - e.g., 776)\n",
    "* Start Station (e.g., Broadway & Barry Ave)\n",
    "* End Station (e.g., Sedgwick St & North Ave)\n",
    "* User Type (Subscriber or Customer)\n",
    "\n",
    "The Chicago and New York City files also have the following two columns:\n",
    "\n",
    "* Gender\n",
    "* Birth Year\n",
    "\n",
    "The raw data can be found here:\n",
    "* [Chicago](https://ride.divvybikes.com/system-data)\n",
    "* [New York City](https://ride.citibikenyc.com/system-data)\n",
    "* [Washington](https://ride.capitalbikeshare.com/system-data)\n"
   ]
  },
  {
   "cell_type": "code",
   "execution_count": null,
   "metadata": {},
   "outputs": [],
   "source": [
    "# First we will import the required libraries and packages\n",
    "import time\n",
    "import pandas as pd\n",
    "import numpy as np"
   ]
  },
  {
   "cell_type": "markdown",
   "metadata": {},
   "source": []
  },
  {
   "cell_type": "code",
   "execution_count": null,
   "metadata": {},
   "outputs": [],
   "source": [
    "# The raw"
   ]
  },
  {
   "cell_type": "markdown",
   "metadata": {},
   "source": []
  }
 ],
 "metadata": {
  "kernelspec": {
   "display_name": "Python 3.9.13 ('base')",
   "language": "python",
   "name": "python3"
  },
  "language_info": {
   "name": "python",
   "version": "3.9.13"
  },
  "orig_nbformat": 4,
  "vscode": {
   "interpreter": {
    "hash": "f8cbac9b44621a43e314e401e9b2fbb94b04ee5fc99156fd15d754626bd4422b"
   }
  }
 },
 "nbformat": 4,
 "nbformat_minor": 2
}
